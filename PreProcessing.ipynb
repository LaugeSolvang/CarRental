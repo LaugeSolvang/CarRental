{
  "nbformat": 4,
  "nbformat_minor": 0,
  "metadata": {
    "colab": {
      "provenance": [],
      "include_colab_link": true
    },
    "kernelspec": {
      "name": "python3",
      "display_name": "Python 3"
    },
    "language_info": {
      "name": "python"
    }
  },
  "cells": [
    {
      "cell_type": "markdown",
      "metadata": {
        "id": "view-in-github",
        "colab_type": "text"
      },
      "source": [
        "<a href=\"https://colab.research.google.com/github/LaugeSolvang/CarRental/blob/master/PreProcessing.ipynb\" target=\"_parent\"><img src=\"https://colab.research.google.com/assets/colab-badge.svg\" alt=\"Open In Colab\"/></a>"
      ]
    },
    {
      "cell_type": "markdown",
      "source": [
        "Import libraries"
      ],
      "metadata": {
        "id": "uGE4DFSBPGkN"
      }
    },
    {
      "cell_type": "code",
      "execution_count": 26,
      "metadata": {
        "id": "rzXZQhcqMOqi"
      },
      "outputs": [],
      "source": [
        "from google.colab import userdata, files\n",
        "import os\n",
        "import pandas as pd\n",
        "import numpy as np"
      ]
    },
    {
      "cell_type": "markdown",
      "source": [
        "Acces github"
      ],
      "metadata": {
        "id": "4lwZpYyGNNUE"
      }
    },
    {
      "cell_type": "code",
      "source": [
        "os.environ['GITHUB_TOKEN'] = userdata.get('GITHUB_TOKEN')\n",
        "\n",
        "!git clone https://$GITHUB_TOKEN@github.com/MatRitchie/Sunshine.git\n",
        "\n",
        "%cd Sunshine\n",
        "!git pull https://$GITHUB_TOKEN@github.com/MatRitchie/Sunshine.git main"
      ],
      "metadata": {
        "colab": {
          "base_uri": "https://localhost:8080/"
        },
        "id": "tRTBa3b5NL8B",
        "outputId": "b3cd1edf-3fc3-4644-9e5b-8e07c0cda6de"
      },
      "execution_count": 27,
      "outputs": [
        {
          "output_type": "stream",
          "name": "stdout",
          "text": [
            "Cloning into 'Sunshine'...\n",
            "remote: Enumerating objects: 140, done.\u001b[K\n",
            "remote: Counting objects: 100% (52/52), done.\u001b[K\n",
            "remote: Compressing objects: 100% (14/14), done.\u001b[K\n",
            "remote: Total 140 (delta 48), reused 38 (delta 38), pack-reused 88 (from 1)\u001b[K\n",
            "Receiving objects: 100% (140/140), 931.32 KiB | 15.27 MiB/s, done.\n",
            "Resolving deltas: 100% (81/81), done.\n",
            "/content/Sunshine/Sunshine/Sunshine/Sunshine\n",
            "From https://github.com/MatRitchie/Sunshine\n",
            " * branch            main       -> FETCH_HEAD\n",
            "Already up to date.\n"
          ]
        }
      ]
    },
    {
      "cell_type": "code",
      "source": [
        "FILES = {\n",
        "    \"evolved\": \"incubator_project_graduated_from_graduation.csv\",\n",
        "    \"retired\": \"incubator_project_metrics_graduated_retired.csv\",\n",
        "    \"bypassed\": \"non_incubator_project_metrics.csv\"\n",
        "}\n",
        "OUTPUT_FILE = \"combined_project_status.csv\"\n",
        "\n",
        "LABELS = [\n",
        "    'project', 'COM-1', 'COM-3', 'POP-4', 'STA-1', 'STA-2', 'STA-4', 'STA-5',\n",
        "    'STA-6', 'STA-7', 'STA-10', 'STA-11', 'STA-12', 'TEC-1', 'TEC-2.1',\n",
        "    'TEC-2.2', 'TEC-2.3', 'TEC-2.4', 'TEC-4', 'TEC-5', 'SWQ-1', 'SWQ-4.1',\n",
        "    'SWQ-4.2', 'SWQ-4.3', 'SWQ-4.4', 'SWQ-4.5', 'SWQ-4.6', 'SWQ-4.7',\n",
        "    'init', 'end', 'frequency (weeks)', 'project_url'\n",
        "]"
      ],
      "metadata": {
        "id": "ovq_JBBnLi4b"
      },
      "execution_count": 28,
      "outputs": []
    },
    {
      "cell_type": "markdown",
      "source": [
        "##Load and process the files"
      ],
      "metadata": {
        "id": "49VjZBqlMMre"
      }
    },
    {
      "cell_type": "code",
      "source": [
        "dfs = {}\n",
        "for status, filepath in FILES.items():\n",
        "    try:\n",
        "        df = pd.read_csv(filepath)\n",
        "        df.columns = LABELS[:min(len(df.columns), len(LABELS))]\n",
        "\n",
        "        if 'STA-7' in df.columns:\n",
        "          df['STA-7'] = df['STA-7'].apply(lambda x: 1 if str(x).lower() == 'true' else (0 if str(x).lower() == 'false' else x))\n",
        "\n",
        "        # Calculate project age from STA-1 if present\n",
        "        if 'STA-1' in df.columns:\n",
        "            df['STA-1'] = (2025 - pd.to_datetime(df['STA-1'], errors='coerce').dt.year).fillna(-1).astype(int)\n",
        "\n",
        "        df['status'] = status\n",
        "        dfs[status] = df\n",
        "    except Exception as e:\n",
        "        print(f\"Error processing {filepath}: {e}\")"
      ],
      "metadata": {
        "id": "taAMaZ1gMQmv"
      },
      "execution_count": 29,
      "outputs": []
    },
    {
      "cell_type": "markdown",
      "source": [
        "# Set project status based on presence in evolved list"
      ],
      "metadata": {
        "id": "U3qtw-xVMWcQ"
      }
    },
    {
      "cell_type": "code",
      "source": [
        "if 'evolved' in dfs and 'retired' in dfs:\n",
        "    evolved_projects = set(dfs['evolved']['project'])\n",
        "    dfs['retired']['status'] = dfs['retired']['project'].apply(\n",
        "        lambda proj: 'graduated' if proj in evolved_projects else 'retired'\n",
        "    )"
      ],
      "metadata": {
        "id": "GLXdZPHfMYD4"
      },
      "execution_count": 30,
      "outputs": []
    },
    {
      "cell_type": "code",
      "source": [
        "df_combined = pd.concat([df for df in dfs.values() if df is not None], ignore_index=True)\n",
        "\n",
        "df_clean = df_combined.dropna(axis=1, how='all')\n",
        "df_clean = df_clean[~df_clean.astype(str).apply(lambda x: x.str.contains('missing', case=False, na=False)).any(axis=1)]\n",
        "df_clean = df_clean.dropna()\n",
        "\n",
        "try:\n",
        "    df_clean.to_csv(OUTPUT_FILE, index=False)\n",
        "except Exception as e:\n",
        "    print(f\"Error saving output: {e}\")"
      ],
      "metadata": {
        "id": "xk7TK_aAMpaG"
      },
      "execution_count": 31,
      "outputs": []
    },
    {
      "cell_type": "markdown",
      "source": [
        "Pushing processed data"
      ],
      "metadata": {
        "id": "6L1wsnI2Nmza"
      }
    },
    {
      "cell_type": "code",
      "source": [
        "# Stage the new files for Git\n",
        "!git add {OUTPUT_FILE}\n",
        "\n",
        "# Commit the changes\n",
        "!git commit -m \"Add preprocessed data for combined files with removed missing data\"\n",
        "\n",
        "# Configure Git identity\n",
        "!git config --global user.email \"auto@example.com\"  # Replace with your email\n",
        "!git config --global user.name \"Auto\"        # Replace with your name\n",
        "\n",
        "# Push the changes to GitHub\n",
        "!git push https://$GITHUB_TOKEN@github.com/MatRitchie/Sunshine.git main"
      ],
      "metadata": {
        "colab": {
          "base_uri": "https://localhost:8080/"
        },
        "id": "7wC0eNAZNiLG",
        "outputId": "8e0a0f4f-d704-41dd-f32f-e32160a1e0da"
      },
      "execution_count": 32,
      "outputs": [
        {
          "output_type": "stream",
          "name": "stdout",
          "text": [
            "[main af8d717] Add preprocessed data for combined files with removed missing data\n",
            " 1 file changed, 526 insertions(+), 526 deletions(-)\n",
            " rewrite combined_project_status.csv (95%)\n",
            "Enumerating objects: 5, done.\n",
            "Counting objects: 100% (5/5), done.\n",
            "Delta compression using up to 2 threads\n",
            "Compressing objects: 100% (3/3), done.\n",
            "Writing objects: 100% (3/3), 2.85 KiB | 972.00 KiB/s, done.\n",
            "Total 3 (delta 2), reused 0 (delta 0), pack-reused 0\n",
            "remote: Resolving deltas: 100% (2/2), completed with 2 local objects.\u001b[K\n",
            "To https://github.com/MatRitchie/Sunshine.git\n",
            "   f08f24d..af8d717  main -> main\n"
          ]
        }
      ]
    }
  ]
}