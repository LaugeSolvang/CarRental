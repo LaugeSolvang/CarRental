{
  "nbformat": 4,
  "nbformat_minor": 0,
  "metadata": {
    "colab": {
      "provenance": [],
      "include_colab_link": true
    },
    "kernelspec": {
      "name": "python3",
      "display_name": "Python 3"
    },
    "language_info": {
      "name": "python"
    }
  },
  "cells": [
    {
      "cell_type": "markdown",
      "metadata": {
        "id": "view-in-github",
        "colab_type": "text"
      },
      "source": [
        "<a href=\"https://colab.research.google.com/github/LaugeSolvang/CarRental/blob/master/PreProcessing.ipynb\" target=\"_parent\"><img src=\"https://colab.research.google.com/assets/colab-badge.svg\" alt=\"Open In Colab\"/></a>"
      ]
    },
    {
      "cell_type": "markdown",
      "source": [
        "Import libraries"
      ],
      "metadata": {
        "id": "uGE4DFSBPGkN"
      }
    },
    {
      "cell_type": "code",
      "execution_count": 24,
      "metadata": {
        "id": "rzXZQhcqMOqi"
      },
      "outputs": [],
      "source": [
        "from google.colab import userdata, files\n",
        "import os\n",
        "import pandas as pd\n",
        "import numpy as np"
      ]
    },
    {
      "cell_type": "markdown",
      "source": [
        "Acces github"
      ],
      "metadata": {
        "id": "4lwZpYyGNNUE"
      }
    },
    {
      "cell_type": "code",
      "source": [
        "os.environ['GITHUB_TOKEN'] = userdata.get('GITHUB_TOKEN')\n",
        "%cd /content\n",
        "!git clone https://$GITHUB_TOKEN@github.com/MatRitchie/Sunshine.git\n",
        "\n",
        "%cd /content/Sunshine\n",
        "!git pull https://$GITHUB_TOKEN@github.com/MatRitchie/Sunshine.git main"
      ],
      "metadata": {
        "colab": {
          "base_uri": "https://localhost:8080/"
        },
        "id": "tRTBa3b5NL8B",
        "outputId": "b311e170-03e3-41ac-8f94-c28fd4d96b91"
      },
      "execution_count": 25,
      "outputs": [
        {
          "output_type": "stream",
          "name": "stdout",
          "text": [
            "/content\n",
            "fatal: destination path 'Sunshine' already exists and is not an empty directory.\n",
            "/content/Sunshine\n",
            "From https://github.com/MatRitchie/Sunshine\n",
            " * branch            main       -> FETCH_HEAD\n",
            "Already up to date.\n"
          ]
        }
      ]
    },
    {
      "cell_type": "code",
      "source": [
        "FILES = {\n",
        "    \"evolved\": \"incubator_project_graduated_from_graduation.csv\",\n",
        "    \"retired\": \"incubator_project_metrics_graduated_retired.csv\",\n",
        "    \"bypassed\": \"non_incubator_project_metrics.csv\"\n",
        "}\n",
        "OUTPUT_FILE = \"combined_project_status.csv\"\n",
        "\n",
        "LABELS = [\n",
        "    'project', 'COM-1', 'COM-3', 'POP-4', 'STA-1', 'STA-2', 'STA-4', 'STA-5',\n",
        "    'STA-6', 'STA-7', 'STA-10', 'STA-11', 'STA-12', 'TEC-1', 'TEC-2.1',\n",
        "    'TEC-2.2', 'TEC-2.3', 'TEC-2.4', 'TEC-4', 'TEC-5', 'SWQ-1', 'SWQ-4.1',\n",
        "    'SWQ-4.2', 'SWQ-4.3', 'SWQ-4.4', 'SWQ-4.5', 'SWQ-4.6', 'SWQ-4.7',\n",
        "    'init', 'end', 'frequency (weeks)', 'project_url'\n",
        "]"
      ],
      "metadata": {
        "id": "ovq_JBBnLi4b"
      },
      "execution_count": 26,
      "outputs": []
    },
    {
      "cell_type": "markdown",
      "source": [
        "##Load and process the files"
      ],
      "metadata": {
        "id": "49VjZBqlMMre"
      }
    },
    {
      "cell_type": "code",
      "source": [
        "dfs = {}\n",
        "for status, filepath in FILES.items():\n",
        "    try:\n",
        "        df = pd.read_csv(filepath)\n",
        "        df.columns = LABELS[:min(len(df.columns), len(LABELS))]\n",
        "\n",
        "        df.rename(columns={\n",
        "            'COM-1'   : 'COM-1',\n",
        "            'COM-3'   : 'COM-2',\n",
        "            'POP-4'   : 'POP-1',\n",
        "            'STA-1'   : 'STA-1',\n",
        "            'STA-2'   : 'STA-2',\n",
        "            'STA-4'   : 'STA-3',\n",
        "            'STA-5'   : 'STA-4',\n",
        "            'STA-6'   : 'STA-5',\n",
        "            'STA-7'   : 'STA-6',\n",
        "            'STA-10'  : 'STA-7',\n",
        "            'STA-11'  : 'STA-8',\n",
        "            'STA-12'  : 'STA-9',\n",
        "            'TEC-1'   : 'TEC-1',\n",
        "            'TEC-2.4' : 'TEC-2',\n",
        "            'TEC-4'   : 'TEC-3',\n",
        "            'TEC-5'   : 'TEC-4',\n",
        "            'SWQ-1'   : 'SWQ-1',\n",
        "            'SWQ-4.1' : 'SWQ-2.1',\n",
        "            'SWQ-4.2' : 'SWQ-2.2',\n",
        "            'SWQ-4.3' : 'SWQ-2.3',\n",
        "            'SWQ-4.4' : 'SWQ-2.4',\n",
        "            'SWQ-4.5' : 'SWQ-2.5',\n",
        "            'SWQ-4.6' : 'SWQ-2.6',\n",
        "            'SWQ-4.7' : 'SWQ-2.7',\n",
        "        }, inplace=True)\n",
        "\n",
        "        if 'TEC-2.2' in df.columns:\n",
        "          df.drop(columns=['TEC-2.2'], inplace=True)\n",
        "\n",
        "        if 'frequency (weeks)' in df.columns:\n",
        "          df.drop(columns=['frequency (weeks)'], inplace=True)\n",
        "\n",
        "        if 'STA-6' in df.columns:\n",
        "          df['STA-6'] = df['STA-6'].apply(lambda x: 1 if str(x).lower() == 'true' else (0 if str(x).lower() == 'false' else x))\n",
        "\n",
        "        # Calculate project age from STA-1 if present\n",
        "        if 'STA-1' in df.columns:\n",
        "            df['STA-1'] = (2025 - pd.to_datetime(df['STA-1'], errors='coerce').dt.year).fillna(-1).astype(int)\n",
        "\n",
        "        df['status'] = status\n",
        "        dfs[status] = df\n",
        "    except Exception as e:\n",
        "        print(f\"Error processing {filepath}: {e}\")"
      ],
      "metadata": {
        "id": "taAMaZ1gMQmv"
      },
      "execution_count": 27,
      "outputs": []
    },
    {
      "cell_type": "markdown",
      "source": [
        "# Set project status based on presence in evolved list"
      ],
      "metadata": {
        "id": "U3qtw-xVMWcQ"
      }
    },
    {
      "cell_type": "code",
      "source": [
        "if 'evolved' in dfs and 'retired' in dfs:\n",
        "    evolved_projects = set(dfs['evolved']['project'])\n",
        "    dfs['retired']['status'] = dfs['retired']['project'].apply(\n",
        "        lambda proj: 'graduated' if proj in evolved_projects else 'retired'\n",
        "    )"
      ],
      "metadata": {
        "id": "GLXdZPHfMYD4"
      },
      "execution_count": 28,
      "outputs": []
    },
    {
      "cell_type": "code",
      "source": [
        "df_combined = pd.concat([df for df in dfs.values() if df is not None], ignore_index=True)\n",
        "\n",
        "df_clean = df_combined.dropna(axis=1, how='all')\n",
        "df_clean = df_clean[~df_clean.astype(str).apply(lambda x: x.str.contains('missing', case=False, na=False)).any(axis=1)]\n",
        "df_clean = df_clean.dropna()\n",
        "\n",
        "try:\n",
        "    df_clean.to_csv(OUTPUT_FILE, index=False)\n",
        "except Exception as e:\n",
        "    print(f\"Error saving output: {e}\")"
      ],
      "metadata": {
        "id": "xk7TK_aAMpaG"
      },
      "execution_count": 29,
      "outputs": []
    },
    {
      "cell_type": "markdown",
      "source": [
        "Pushing processed data"
      ],
      "metadata": {
        "id": "6L1wsnI2Nmza"
      }
    },
    {
      "cell_type": "code",
      "source": [
        "# Stage the new files for Git\n",
        "!git add {OUTPUT_FILE}\n",
        "\n",
        "# Commit the changes\n",
        "!git commit -m \"Add preprocessed data for combined files with removed missing data\"\n",
        "\n",
        "# Configure Git identity\n",
        "!git config --global user.email \"auto@example.com\"  # Replace with your email\n",
        "!git config --global user.name \"Auto\"        # Replace with your name\n",
        "\n",
        "# Push the changes to GitHub\n",
        "!git push https://$GITHUB_TOKEN@github.com/MatRitchie/Sunshine.git main"
      ],
      "metadata": {
        "colab": {
          "base_uri": "https://localhost:8080/"
        },
        "id": "7wC0eNAZNiLG",
        "outputId": "6c905f7b-9be8-4a4b-cc62-eb9a9e69166f"
      },
      "execution_count": 30,
      "outputs": [
        {
          "output_type": "stream",
          "name": "stdout",
          "text": [
            "[main 42b0dbc] Add preprocessed data for combined files with removed missing data\n",
            " 1 file changed, 526 insertions(+), 526 deletions(-)\n",
            "Enumerating objects: 5, done.\n",
            "Counting objects: 100% (5/5), done.\n",
            "Delta compression using up to 2 threads\n",
            "Compressing objects: 100% (3/3), done.\n",
            "Writing objects: 100% (3/3), 3.19 KiB | 1.06 MiB/s, done.\n",
            "Total 3 (delta 2), reused 0 (delta 0), pack-reused 0\n",
            "remote: Resolving deltas: 100% (2/2), completed with 2 local objects.\u001b[K\n",
            "To https://github.com/MatRitchie/Sunshine.git\n",
            "   9ab796b..42b0dbc  main -> main\n"
          ]
        }
      ]
    }
  ]
}